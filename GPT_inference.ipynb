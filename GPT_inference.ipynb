{
 "cells": [
  {
   "cell_type": "code",
   "execution_count": 4,
   "id": "initial_id",
   "metadata": {},
   "outputs": [
    {
     "name": "stdout",
     "output_type": "stream",
     "text": [
      "zsh:1: command not found: wget\r\n"
     ]
    }
   ],
   "source": [
    "# We import a dataset to train on. Here, we will use the Tiny Shakespeare dataset.\n",
    "# !wget https://raw.githubusercontent.com/karpathy/char-rnn/master/data/tinyshakespeare/input.txt"
   ]
  },
  {
   "cell_type": "markdown",
   "id": "497df1d4",
   "metadata": {},
   "source": [
    "# Understanding our implementation of GPT, and our dataset.\n",
    "We want to get a better understanding of what exactly we will be implementing here.\n",
    "First, let us examine our dataset in more detail.\n",
    "\n",
    "Then, we will examine a simple Bigram language model, which gives us motivation to build a transformer."
   ]
  },
  {
   "cell_type": "code",
   "execution_count": 5,
   "id": "d40e067a",
   "metadata": {},
   "outputs": [],
   "source": [
    "# Reading in our input dataset as a variable called \"text\":\n",
    "with open(\"input.txt\", \"r\", encoding=\"utf-8\") as f:\n",
    "    text = f.read()"
   ]
  },
  {
   "cell_type": "code",
   "execution_count": 8,
   "id": "3d832f7a",
   "metadata": {},
   "outputs": [
    {
     "name": "stdout",
     "output_type": "stream",
     "text": [
      "Length of the dataset (in chars): 1115394\n",
      "First Citizen:\n",
      "Before we proceed any further, hear me speak.\n",
      "\n",
      "All:\n",
      "Speak, speak.\n",
      "\n",
      "First Citizen:\n",
      "You are all resolved rather to die than to famish?\n",
      "\n",
      "All:\n",
      "Resolved. resolved.\n",
      "\n",
      "First Citizen:\n",
      "First, you know Caius Marcius is chief enemy to the people.\n",
      "\n",
      "All:\n",
      "We know't, we know't.\n",
      "\n",
      "First Citizen:\n",
      "Let us\n"
     ]
    }
   ],
   "source": [
    "print(f\"Length of the dataset (in chars): {len(text)}\")\n",
    "\n",
    "# Printing first 300 characters:\n",
    "print(text[:300])"
   ]
  },
  {
   "cell_type": "code",
   "execution_count": 9,
   "id": "5e017a40",
   "metadata": {},
   "outputs": [
    {
     "name": "stdout",
     "output_type": "stream",
     "text": [
      "\n",
      " !$&',-.3:;?ABCDEFGHIJKLMNOPQRSTUVWXYZabcdefghijklmnopqrstuvwxyz\n",
      "65\n"
     ]
    }
   ],
   "source": [
    "# All the unique characters that occur in our data:\n",
    "chars = sorted(list(set(text)))\n",
    "vocab_size = len(chars)\n",
    "print(''.join(chars))\n",
    "print(vocab_size)"
   ]
  },
  {
   "cell_type": "code",
   "execution_count": 10,
   "id": "672917d9",
   "metadata": {},
   "outputs": [
    {
     "name": "stdout",
     "output_type": "stream",
     "text": [
      "[20, 47, 1, 58, 46, 43, 56, 43, 2]\n",
      "Hi there!\n"
     ]
    }
   ],
   "source": [
    "# Encoding input text into IDs:\n",
    "#    creating a mapping:\n",
    "stoi = {ch:i for i,ch in enumerate(chars)}\n",
    "itos = {i:ch for i,ch in enumerate(chars)}\n",
    "\n",
    "#    creating functions (lookup tables):\n",
    "encode = lambda s: [stoi[c] for c in s]            # encoder: Str -> list[int]\n",
    "decode = lambda l: ''.join([itos[i] for i in l])   # decoder: list[int] -> Str\n",
    "\n",
    "print(encode(\"Hi there!\"))\n",
    "print(decode(encode(\"Hi there!\")))\n",
    "\n",
    "# Here, we are encoding individual characters. In theory.pdf, we see that entire words are encoded.\n",
    "# In practice, encoding is done on the sub-word level. Google uses SentencePiece for tokenization, and then each\n",
    "#   token is encoded, where \"tokens\" are sub-words decided somehow.\n",
    "#   note: maybe good idea to create a tokenizer from scratch?\n",
    "\n",
    "# Bigger token size => smaller sequence length. "
   ]
  },
  {
   "cell_type": "code",
   "execution_count": 11,
   "id": "aa42436e",
   "metadata": {},
   "outputs": [
    {
     "name": "stdout",
     "output_type": "stream",
     "text": [
      "torch.Size([1115394]) torch.int64\n",
      "tensor([18, 47, 56, 57, 58,  1, 15, 47, 58, 47, 64, 43, 52, 10,  0, 14, 43, 44,\n",
      "        53, 56, 43,  1, 61, 43,  1, 54, 56, 53, 41, 43, 43, 42,  1, 39, 52, 63,\n",
      "         1, 44, 59, 56, 58, 46, 43, 56,  6,  1, 46, 43, 39, 56,  1, 51, 43,  1,\n",
      "        57, 54, 43, 39, 49,  8,  0,  0, 13, 50, 50, 10,  0, 31, 54, 43, 39, 49,\n",
      "         6,  1, 57, 54, 43, 39, 49,  8,  0,  0, 18, 47, 56, 57, 58,  1, 15, 47,\n",
      "        58, 47, 64, 43, 52, 10,  0, 37, 53, 59,  1, 39, 56, 43,  1, 39, 50, 50,\n",
      "         1, 56, 43, 57, 53, 50, 60, 43, 42,  1, 56, 39, 58, 46, 43, 56,  1, 58,\n",
      "        53,  1, 42, 47, 43,  1, 58, 46, 39, 52,  1, 58, 53,  1, 44, 39, 51, 47,\n",
      "        57, 46, 12,  0,  0, 13, 50, 50, 10,  0, 30, 43, 57, 53, 50, 60, 43, 42,\n",
      "         8,  1, 56, 43, 57, 53, 50, 60, 43, 42,  8,  0,  0, 18, 47, 56, 57, 58,\n",
      "         1, 15, 47, 58, 47, 64, 43, 52, 10,  0, 18, 47, 56, 57, 58,  6,  1, 63,\n",
      "        53, 59,  1, 49, 52, 53, 61,  1, 15, 39, 47, 59, 57,  1, 25, 39, 56, 41,\n",
      "        47, 59, 57,  1, 47, 57,  1, 41, 46, 47, 43, 44,  1, 43, 52, 43, 51, 63,\n",
      "         1, 58, 53,  1, 58, 46, 43,  1, 54, 43, 53, 54, 50, 43,  8,  0,  0, 13,\n",
      "        50, 50, 10,  0, 35, 43,  1, 49, 52, 53, 61,  5, 58,  6,  1, 61, 43,  1,\n",
      "        49, 52, 53, 61,  5, 58,  8,  0,  0, 18, 47, 56, 57, 58,  1, 15, 47, 58,\n",
      "        47, 64, 43, 52, 10,  0, 24, 43, 58,  1, 59, 57])\n"
     ]
    }
   ],
   "source": [
    "# Encode our entire dataset and store as a torch.Tensor:\n",
    "import torch\n",
    "data = torch.tensor(encode(text), dtype=torch.long)\n",
    "\n",
    "print(data.shape, data.dtype)\n",
    "print(data[:300])"
   ]
  },
  {
   "cell_type": "code",
   "execution_count": 13,
   "id": "ead1fffd",
   "metadata": {},
   "outputs": [],
   "source": [
    "# We split our dataset into a train:validation split. \n",
    "#    first 90% will be training data, rest will be validation.\n",
    "n = int(0.9 * len(data))\n",
    "#    validation:\n",
    "val_data = data[n:]\n",
    "#    training:\n",
    "train_data = data[:n]"
   ]
  },
  {
   "cell_type": "markdown",
   "id": "0d429f41",
   "metadata": {},
   "source": [
    "### Training and Validation\n",
    "In practice, training is difficult to do on the entire text all at once. Instead, the training occurs in *chunks* of text, randomly sampled from `train_data`.\n",
    "These chunks of text must have some maximum length to allow possible computation. We will call this `block_size`.\n",
    "\n"
   ]
  },
  {
   "cell_type": "code",
   "execution_count": 14,
   "id": "19927ce9",
   "metadata": {},
   "outputs": [
    {
     "data": {
      "text/plain": [
       "tensor([18, 47, 56, 57, 58,  1, 15, 47, 58])"
      ]
     },
     "execution_count": 14,
     "metadata": {},
     "output_type": "execute_result"
    }
   ],
   "source": [
    "block_size = 8\n",
    "train_data[:block_size+1]"
   ]
  },
  {
   "cell_type": "code",
   "execution_count": 15,
   "id": "32808452",
   "metadata": {},
   "outputs": [
    {
     "name": "stdout",
     "output_type": "stream",
     "text": [
      "When input is tensor([18]) the target is 47.\n",
      "When input is tensor([18, 47]) the target is 56.\n",
      "When input is tensor([18, 47, 56]) the target is 57.\n",
      "When input is tensor([18, 47, 56, 57]) the target is 58.\n",
      "When input is tensor([18, 47, 56, 57, 58]) the target is 1.\n",
      "When input is tensor([18, 47, 56, 57, 58,  1]) the target is 15.\n",
      "When input is tensor([18, 47, 56, 57, 58,  1, 15]) the target is 47.\n",
      "When input is tensor([18, 47, 56, 57, 58,  1, 15, 47]) the target is 58.\n"
     ]
    }
   ],
   "source": [
    "# However, we want to train all possible previous subsequences of this block_size size training data:\n",
    "x = train_data[:block_size]       # our training (input)\n",
    "y = train_data[1:block_size+1]    # our labels (expected output)\n",
    "\n",
    "for t in range(block_size):\n",
    "    context = x[:t+1]             # first \"t\" characters (starting at t=0)\n",
    "    target = y[t]                 # the \"next\" character in the sequence\n",
    "    print(f\"When input is {context} the target is {target}.\")\n",
    "    \n",
    "# This helps the transformer get used to seeing inputs of varying lengths, from 1 to block_size."
   ]
  },
  {
   "cell_type": "code",
   "execution_count": 19,
   "id": "d9927429",
   "metadata": {},
   "outputs": [
    {
     "name": "stdout",
     "output_type": "stream",
     "text": [
      "Inputs:\n",
      "torch.Size([4, 8])\n",
      "tensor([[24, 43, 58,  5, 57,  1, 46, 43],\n",
      "        [44, 53, 56,  1, 58, 46, 39, 58],\n",
      "        [52, 58,  1, 58, 46, 39, 58,  1],\n",
      "        [25, 17, 27, 10,  0, 21,  1, 54]])\n",
      "Targets:\n",
      "torch.Size([4, 8])\n",
      "tensor([[43, 58,  5, 57,  1, 46, 43, 39],\n",
      "        [53, 56,  1, 58, 46, 39, 58,  1],\n",
      "        [58,  1, 58, 46, 39, 58,  1, 46],\n",
      "        [17, 27, 10,  0, 21,  1, 54, 39]])\n",
      "-----------------------------------------\n",
      "When input is [24] the target is 43.\n",
      "When input is [24, 43] the target is 58.\n",
      "When input is [24, 43, 58] the target is 5.\n",
      "When input is [24, 43, 58, 5] the target is 57.\n",
      "When input is [24, 43, 58, 5, 57] the target is 1.\n",
      "When input is [24, 43, 58, 5, 57, 1] the target is 46.\n",
      "When input is [24, 43, 58, 5, 57, 1, 46] the target is 43.\n",
      "When input is [24, 43, 58, 5, 57, 1, 46, 43] the target is 39.\n",
      "When input is [44] the target is 53.\n",
      "When input is [44, 53] the target is 56.\n",
      "When input is [44, 53, 56] the target is 1.\n",
      "When input is [44, 53, 56, 1] the target is 58.\n",
      "When input is [44, 53, 56, 1, 58] the target is 46.\n",
      "When input is [44, 53, 56, 1, 58, 46] the target is 39.\n",
      "When input is [44, 53, 56, 1, 58, 46, 39] the target is 58.\n",
      "When input is [44, 53, 56, 1, 58, 46, 39, 58] the target is 1.\n",
      "When input is [52] the target is 58.\n",
      "When input is [52, 58] the target is 1.\n",
      "When input is [52, 58, 1] the target is 58.\n",
      "When input is [52, 58, 1, 58] the target is 46.\n",
      "When input is [52, 58, 1, 58, 46] the target is 39.\n",
      "When input is [52, 58, 1, 58, 46, 39] the target is 58.\n",
      "When input is [52, 58, 1, 58, 46, 39, 58] the target is 1.\n",
      "When input is [52, 58, 1, 58, 46, 39, 58, 1] the target is 46.\n",
      "When input is [25] the target is 17.\n",
      "When input is [25, 17] the target is 27.\n",
      "When input is [25, 17, 27] the target is 10.\n",
      "When input is [25, 17, 27, 10] the target is 0.\n",
      "When input is [25, 17, 27, 10, 0] the target is 21.\n",
      "When input is [25, 17, 27, 10, 0, 21] the target is 1.\n",
      "When input is [25, 17, 27, 10, 0, 21, 1] the target is 54.\n",
      "When input is [25, 17, 27, 10, 0, 21, 1, 54] the target is 39.\n"
     ]
    }
   ],
   "source": [
    "# Now we will try to combine multiple blocks into a batch of size batch_size (number of blocks per batch).\n",
    "# This is done in practice for computational efficiency.\n",
    "\n",
    "torch.manual_seed(1337)    # to replicate results consistently w/ random generation\n",
    "batch_size = 4             # how many independent sequences do we process in parallel?\n",
    "block_size = 8\n",
    "\n",
    "# get_batch(split) generates a small batch of data of inputs \"x\" and targets \"y\".\n",
    "#    split: either \"train\" or \"val\" (we only check for \"train\")\n",
    "def get_batch(split):\n",
    "    data = train_data if (split == \"train\") else val_data\n",
    "    # We generate batch_size number of random offsets (these are our block starting indices):\n",
    "    #    starts at len(data)-block_size to avoid IndexError.\n",
    "    ix = torch.randint(len(data) - block_size, (batch_size, ))\n",
    "    \n",
    "    # Stacking our tensors as rows:\n",
    "    x = torch.stack([data[i:i+block_size] for i in ix])\n",
    "    y = torch.stack([data[i+1:i+block_size+1] for i in ix])\n",
    "\n",
    "    return x, y\n",
    "\n",
    "xb, yb = get_batch(\"train\")\n",
    "\n",
    "print(\"Inputs:\")\n",
    "print(xb.shape)\n",
    "print(xb)\n",
    "\n",
    "print(\"Targets:\")\n",
    "print(yb.shape)\n",
    "print(yb)\n",
    "\n",
    "print(\"-----------------------------------------\")\n",
    "\n",
    "for b in range(batch_size):   # batch dimension\n",
    "    for t in range(block_size):   # time dimension\n",
    "        context = xb[b, :t+1]\n",
    "        target = yb[b, t]\n",
    "        print(f\"When input is {context.tolist()} the target is {target}.\")\n",
    "    "
   ]
  },
  {
   "cell_type": "markdown",
   "id": "31ab5d1b",
   "metadata": {},
   "source": [
    "### Bigram Language Modeling\n",
    "See the NLP project for more."
   ]
  },
  {
   "cell_type": "code",
   "execution_count": 30,
   "id": "9956e050",
   "metadata": {},
   "outputs": [
    {
     "name": "stdout",
     "output_type": "stream",
     "text": [
      "torch.Size([32, 65])\n",
      "tensor(4.8786, grad_fn=<NllLossBackward0>)\n",
      "tensor([[0]])\n",
      "[0, 31, 23, 21, 41, 24, 32, 11, 13, 41, 17, 24, 25, 53, 32, 40, 60, 38, 60, 1, 15, 12, 52, 55, 7, 29, 17, 9, 9, 10, 15, 22, 55, 49, 27, 23, 20, 7, 55, 11, 10, 50, 39, 2, 53, 47, 63, 61, 49, 20, 48, 45, 15, 46, 64, 40, 29, 12, 59, 2, 9, 40, 24, 21, 45, 61, 43, 60, 51, 63, 18, 22, 19, 33, 19, 54, 0, 61, 52, 37, 35, 51, 52, 62, 23, 35, 35, 43, 60, 7, 58, 16, 55, 36, 17, 56, 34, 23, 24, 45, 22]\n",
      "\n",
      "SKIcLT;AcELMoTbvZv C?nq-QE33:CJqkOKH-q;:la!oiywkHjgChzbQ?u!3bLIgwevmyFJGUGp\n",
      "wnYWmnxKWWev-tDqXErVKLgJ\n"
     ]
    }
   ],
   "source": [
    "# Let's try modeling using a Bigram language model. More info can be found in NLP inference (not this project).\n",
    "import torch\n",
    "import torch.nn as nn\n",
    "from torch.nn import functional as F\n",
    "\n",
    "torch.manual_seed(1337)   # for reproducibility\n",
    "\n",
    "class BigramLanguageModel(nn.Module):\n",
    "    def __init__(self, vocab_size):\n",
    "        super().__init__()\n",
    "        \n",
    "        # Each token reads directly off the logits for the next token from a lookup table:\n",
    "        self.token_embedding_table = nn.Embedding(vocab_size, vocab_size)\n",
    "        \n",
    "    def forward(self, idx, targets=None):\n",
    "        # idx and targets are both (batch, time) tensors of integers:\n",
    "        #    here:\n",
    "        #      batch = batch_size\n",
    "        #      time = block_size\n",
    "        #      channel = vocab_size\n",
    "        logits = self.token_embedding_table(idx)   # (batch, time, channel) or (B, T, C)\n",
    "        \n",
    "        if targets is None:\n",
    "            loss = None\n",
    "        else:\n",
    "            # F.cross_entropy expects a (B, C, T) input so we reshape:\n",
    "            B, T, C = logits.shape\n",
    "            logits = logits.view(B*T, C)\n",
    "            targets = targets.view(B*T)\n",
    "\n",
    "            # We are predicting what's next based on the identity of an individual token.\n",
    "            # This is done for every token we have.\n",
    "            loss = F.cross_entropy(logits, targets)    # we know the next character, how well are we predicting?\n",
    "        \n",
    "        return logits, loss\n",
    "    \n",
    "    # Generating new tokens.\n",
    "    #    idx is a (B, T) array of indices in the current context.\n",
    "    def generate(self, idx, max_new_tokens):\n",
    "        for _ in range(max_new_tokens):   # we generate 1, 2, ..., max_new_tokens tokens\n",
    "            # Get predictions:\n",
    "            logits, loss = self(idx)\n",
    "            # Focus only on the last time step (a.k.a. our prediction):\n",
    "            logits = logits[:, -1, :]   # becomes (B, C) from (B, T, C)\n",
    "            # Softmax to get probabilities:\n",
    "            probs = F.softmax(logits, dim=-1)   # (B, C)\n",
    "            # Sample from the distribution:\n",
    "            idx_next = torch.multinomial(probs, num_samples=1)   # (B, 1)\n",
    "            # Append sampled index to the running sequence:\n",
    "            idx = torch.cat((idx, idx_next), dim=1)   # (B, T+1)\n",
    "        return idx\n",
    "    \n",
    "\n",
    "m = BigramLanguageModel(vocab_size)\n",
    "logits, loss = m(xb, yb)\n",
    "print(logits.shape)\n",
    "print(loss)\n",
    "\n",
    "# We start with the character \"0\":\n",
    "idx = torch.zeros((1, 1), dtype=torch.long)\n",
    "\n",
    "# Our prediction of (max_new_tokens) next tokens:\n",
    "pred = m.generate(idx, max_new_tokens=100)[0].tolist()\n",
    "\n",
    "print(idx)\n",
    "print(pred)\n",
    "print(decode(pred))\n"
   ]
  },
  {
   "cell_type": "code",
   "execution_count": 31,
   "id": "a6437acb",
   "metadata": {},
   "outputs": [],
   "source": [
    "# We import the AdamW optimizer to begin training and gradient descent:\n",
    "optimizer = torch.optim.AdamW(m.parameters(), lr=1e-3)"
   ]
  },
  {
   "cell_type": "code",
   "execution_count": 38,
   "id": "b8a8c15c",
   "metadata": {},
   "outputs": [
    {
     "name": "stdout",
     "output_type": "stream",
     "text": [
      "2.4950690269470215\n"
     ]
    }
   ],
   "source": [
    "# Training process:\n",
    "batch_size = 32\n",
    "\n",
    "for steps in range(10000):\n",
    "    # Get a sample batch of data:\n",
    "    xb, yb = get_batch(\"train\")\n",
    "    \n",
    "    # Evaluate the loss:\n",
    "    logits, loss = m(xb, yb)\n",
    "    \n",
    "    # Optimize and backpropagation:\n",
    "    optimizer.zero_grad(set_to_none=True)\n",
    "    loss.backward()\n",
    "    optimizer.step()\n",
    "    \n",
    "print(loss.item())"
   ]
  },
  {
   "cell_type": "code",
   "execution_count": 40,
   "id": "12209d6b",
   "metadata": {},
   "outputs": [
    {
     "name": "stdout",
     "output_type": "stream",
     "text": [
      "tensor([[0]])\n",
      "[0, 14, 59, 56, 56, 39, 61, 1, 39, 52, 53, 60, 43, 1, 58, 46, 53, 52, 42, 6, 1, 57, 1, 58, 46, 63, 53, 39, 1, 25, 39, 49, 5, 43, 1, 57, 43, 52, 1, 46, 47, 57, 0, 31, 1, 58, 53, 1, 42, 1, 51, 43, 56, 47, 57, 1, 51, 43, 1, 51, 43, 1, 47, 52, 39, 52, 50, 63, 11, 1, 58, 1, 51, 39, 58, 1, 47, 51, 43, 43, 63, 6, 1, 56, 43, 43, 42, 1, 20, 21, 33, 23, 21, 18, 1, 50, 43, 1, 56, 53, 59, 57, 59, 57, 54, 39, 56, 43, 6, 1, 58, 53, 56, 43, 57, 43, 57, 47, 52, 60, 39, 52, 41, 46, 43, 39, 52, 42, 8, 0, 37, 53, 52, 6, 1, 51, 43, 51, 1, 40, 50, 53, 52, 1, 45, 39, 51, 40, 43, 57, 1, 61, 43, 42, 1, 58, 46, 39, 44, 44, 47, 5, 50, 1, 47, 52, 1, 21, 1, 61, 43, 56, 1, 48, 59, 39, 49, 43, 1, 57, 54, 39, 42, 1, 57, 1, 58, 46, 43, 1, 58, 46, 39, 41, 43, 47, 60, 43, 1, 21, 1]\n",
      "\n",
      "Burraw anove thond, s thyoa Mak'e sen his\n",
      "S to d meris me me inanly; t mat imeey, reed HIUKIF le roususpare, toresesinvancheand.\n",
      "Yon, mem blon gambes wed thaffi'l in I wer juake spad s the thaceive I \n"
     ]
    }
   ],
   "source": [
    "# We start with the character \"0\":\n",
    "idx = torch.zeros((1, 1), dtype=torch.long)\n",
    "\n",
    "# Our prediction of (max_new_tokens) next tokens:\n",
    "pred = m.generate(idx, max_new_tokens=200)[0].tolist()\n",
    "\n",
    "# Predictions AFTER TRAINING:\n",
    "print(idx)\n",
    "print(pred)\n",
    "print(decode(pred))\n"
   ]
  },
  {
   "cell_type": "markdown",
   "id": "7e2fd72d",
   "metadata": {},
   "source": [
    "# Exploring Self-Attention (Single-Head)"
   ]
  },
  {
   "cell_type": "code",
   "execution_count": 41,
   "id": "b424bb6a",
   "metadata": {},
   "outputs": [
    {
     "data": {
      "text/plain": [
       "torch.Size([4, 8, 2])"
      ]
     },
     "execution_count": 41,
     "metadata": {},
     "output_type": "execute_result"
    }
   ],
   "source": [
    "# We will construct an inference example here.\n",
    "\n",
    "torch.manual_seed(1337)   # for reproducibility\n",
    "B, T, C = 4, 8, 2   # batch, time, channels  (# batches,  # tokens per batch,  channels)\n",
    "\n",
    "x = torch.randn(B, T, C)   # random (B, T, C) tensor\n",
    "x.shape\n",
    "\n",
    "# We have up to 8 tokens in a \"batch\". Currently, they don't \"talk\" to each other. We could like to couple\n",
    "#   tokens. \n",
    "# In particular, tokens should only share information \"forward\", so from previous timesteps to the current\n",
    "#   timestep. Future tokens will be predicted, so cannot share information backwards. \n",
    "\n",
    "# The simplest way is to do an average of the preceding elements. We'll get a feature-vector that summarizes the\n",
    "#   history of this block so far. This is enough for now (though we lose positional information)."
   ]
  },
  {
   "cell_type": "code",
   "execution_count": 45,
   "id": "6e342727",
   "metadata": {},
   "outputs": [
    {
     "name": "stdout",
     "output_type": "stream",
     "text": [
      "tensor([[ 0.1808, -0.0700],\n",
      "        [-0.3596, -0.9152],\n",
      "        [ 0.6258,  0.0255],\n",
      "        [ 0.9545,  0.0643],\n",
      "        [ 0.3612,  1.1679],\n",
      "        [-1.3499, -0.5102],\n",
      "        [ 0.2360, -0.2398],\n",
      "        [-0.9211,  1.5433]])\n",
      "\n",
      "tensor([[ 0.1808, -0.0700],\n",
      "        [-0.0894, -0.4926],\n",
      "        [ 0.1490, -0.3199],\n",
      "        [ 0.3504, -0.2238],\n",
      "        [ 0.3525,  0.0545],\n",
      "        [ 0.0688, -0.0396],\n",
      "        [ 0.0927, -0.0682],\n",
      "        [-0.0341,  0.1332]])\n"
     ]
    }
   ],
   "source": [
    "# xbow = x \"bag of words\",  which is our average.\n",
    "xbow = torch.zeros((B, T, C))\n",
    "\n",
    "for b in range(B):\n",
    "    for t in range(T):\n",
    "        # Previous tokens are in this batch's dimension, up to and including the \"t\"th token\n",
    "        xprev = x[b, :t+1]   # (t, C)\n",
    "        # We store the mean in the (b, t) element of xbow\n",
    "        xbow[b, t] = torch.mean(xprev, 0)\n",
    "        \n",
    "print(x[0], end=\"\\n\\n\")\n",
    "print(xbow[0])\n",
    "\n",
    "# Notice now that the second tensor (xbow[0]) is the average of the previous elements of the first, row-wise. \n",
    "# But this is inefficient! We can be efficient using matrix multiplication."
   ]
  },
  {
   "cell_type": "markdown",
   "id": "8a231832",
   "metadata": {},
   "source": [
    "### Improving Efficiency using Matrix Multiplication"
   ]
  },
  {
   "cell_type": "code",
   "execution_count": 48,
   "id": "5a92623a",
   "metadata": {},
   "outputs": [
    {
     "name": "stdout",
     "output_type": "stream",
     "text": [
      "a: \n",
      "tensor([[1., 1., 1.],\n",
      "        [1., 1., 1.],\n",
      "        [1., 1., 1.]])\n",
      " ~~~~~ \n",
      "b: \n",
      "tensor([[2., 7.],\n",
      "        [6., 4.],\n",
      "        [6., 5.]])\n",
      " ~~~~~ \n",
      "c: \n",
      "tensor([[14., 16.],\n",
      "        [14., 16.],\n",
      "        [14., 16.]])\n",
      " ~~~~~ \n"
     ]
    }
   ],
   "source": [
    "torch.manual_seed(42)\n",
    "\n",
    "# Notice that when we perform the following operation, we are \"summing\" along the columns of b:\n",
    "a = torch.ones(3, 3)   # 3x3 matrix of \"1\"s\n",
    "b = torch.randint(0, 10, (3, 2)).float()   # 3x2 matrix of random integers (range 0-10)\n",
    "c = a @ b   # matrix multiplication\n",
    "\n",
    "print(\"a: \")\n",
    "print(a, end=\"\\n ~~~~~ \\n\")\n",
    "\n",
    "print(\"b: \")\n",
    "print(b, end=\"\\n ~~~~~ \\n\")\n",
    "\n",
    "print(\"c: \")\n",
    "print(c, end=\"\\n ~~~~~ \\n\")\n"
   ]
  },
  {
   "cell_type": "code",
   "execution_count": 51,
   "id": "537e9cd4",
   "metadata": {},
   "outputs": [
    {
     "name": "stdout",
     "output_type": "stream",
     "text": [
      "a: \n",
      "tensor([[1., 0., 0.],\n",
      "        [1., 1., 0.],\n",
      "        [1., 1., 1.]])\n",
      " ~~~~~ \n",
      "b: \n",
      "tensor([[2., 7.],\n",
      "        [6., 4.],\n",
      "        [6., 5.]])\n",
      " ~~~~~ \n",
      "c: \n",
      "tensor([[ 2.,  7.],\n",
      "        [ 8., 11.],\n",
      "        [14., 16.]])\n",
      " ~~~~~ \n"
     ]
    }
   ],
   "source": [
    "torch.manual_seed(42)\n",
    "\n",
    "# However, if we consider a lower-triangular matrix of \"1\"s we get something more interesting:\n",
    "a = torch.tril(torch.ones(3, 3))   # 3x3 LOWER TRIANGULAR matrix of \"1\"s\n",
    "b = torch.randint(0, 10, (3, 2)).float()   # 3x2 matrix of random integers (range 0-10)\n",
    "c = a @ b   # matrix multiplication\n",
    "\n",
    "print(\"a: \")\n",
    "print(a, end=\"\\n ~~~~~ \\n\")\n",
    "\n",
    "print(\"b: \")\n",
    "print(b, end=\"\\n ~~~~~ \\n\")\n",
    "\n",
    "print(\"c: \")\n",
    "print(c, end=\"\\n ~~~~~ \\n\")\n",
    "\n",
    "# In particular, we are now adding the \"previous\" entries instead of just adding all entries. But we want\n",
    "#   to take an average, not just sum.\n",
    "\n",
    "# We can normalize \"a\" such that its rows add to \"1\", giving an average."
   ]
  },
  {
   "cell_type": "code",
   "execution_count": 53,
   "id": "cf8fc54d",
   "metadata": {},
   "outputs": [
    {
     "name": "stdout",
     "output_type": "stream",
     "text": [
      "a: \n",
      "tensor([[1.0000, 0.0000, 0.0000],\n",
      "        [0.5000, 0.5000, 0.0000],\n",
      "        [0.3333, 0.3333, 0.3333]])\n",
      " ~~~~~ \n",
      "b: \n",
      "tensor([[2., 7.],\n",
      "        [6., 4.],\n",
      "        [6., 5.]])\n",
      " ~~~~~ \n",
      "c: \n",
      "tensor([[2.0000, 7.0000],\n",
      "        [4.0000, 5.5000],\n",
      "        [4.6667, 5.3333]])\n",
      " ~~~~~ \n"
     ]
    }
   ],
   "source": [
    "torch.manual_seed(42)\n",
    "\n",
    "# Normalizing as explained above:\n",
    "a = torch.tril(torch.ones(3, 3))   # 3x3 LOWER TRIANGULAR matrix of \"1\"s\n",
    "a = a / torch.sum(a, 1, keepdim=True)   # NORMALIZING \"a\" along \"dim=1\" keeping dimensions fixed.\n",
    "\n",
    "b = torch.randint(0, 10, (3, 2)).float()   # 3x2 matrix of random integers (range 0-10)\n",
    "c = a @ b   # matrix multiplication\n",
    "\n",
    "print(\"a: \")\n",
    "print(a, end=\"\\n ~~~~~ \\n\")\n",
    "\n",
    "print(\"b: \")\n",
    "print(b, end=\"\\n ~~~~~ \\n\")\n",
    "\n",
    "print(\"c: \")\n",
    "print(c, end=\"\\n ~~~~~ \\n\")"
   ]
  },
  {
   "cell_type": "markdown",
   "id": "337c5007",
   "metadata": {},
   "source": [
    "#### Vectorizing and Improving Efficiency:"
   ]
  },
  {
   "cell_type": "code",
   "execution_count": 54,
   "id": "774fda9f",
   "metadata": {},
   "outputs": [
    {
     "data": {
      "text/plain": [
       "tensor([[1.0000, 0.0000, 0.0000, 0.0000, 0.0000, 0.0000, 0.0000, 0.0000],\n",
       "        [0.5000, 0.5000, 0.0000, 0.0000, 0.0000, 0.0000, 0.0000, 0.0000],\n",
       "        [0.3333, 0.3333, 0.3333, 0.0000, 0.0000, 0.0000, 0.0000, 0.0000],\n",
       "        [0.2500, 0.2500, 0.2500, 0.2500, 0.0000, 0.0000, 0.0000, 0.0000],\n",
       "        [0.2000, 0.2000, 0.2000, 0.2000, 0.2000, 0.0000, 0.0000, 0.0000],\n",
       "        [0.1667, 0.1667, 0.1667, 0.1667, 0.1667, 0.1667, 0.0000, 0.0000],\n",
       "        [0.1429, 0.1429, 0.1429, 0.1429, 0.1429, 0.1429, 0.1429, 0.0000],\n",
       "        [0.1250, 0.1250, 0.1250, 0.1250, 0.1250, 0.1250, 0.1250, 0.1250]])"
      ]
     },
     "execution_count": 54,
     "metadata": {},
     "output_type": "execute_result"
    }
   ],
   "source": [
    "# We will now implement this matrix solution to our initial problem:\n",
    "weights = torch.tril(torch.ones(T, T))\n",
    "weights = weights / torch.sum(weights, 1, keepdim=True)\n",
    "weights"
   ]
  },
  {
   "cell_type": "code",
   "execution_count": 57,
   "id": "47bbf796",
   "metadata": {},
   "outputs": [
    {
     "data": {
      "text/plain": [
       "tensor([[ 0.1808, -0.0700],\n",
       "        [-0.0894, -0.4926],\n",
       "        [ 0.1490, -0.3199],\n",
       "        [ 0.3504, -0.2238],\n",
       "        [ 0.3525,  0.0545],\n",
       "        [ 0.0688, -0.0396],\n",
       "        [ 0.0927, -0.0682],\n",
       "        [-0.0341,  0.1332]])"
      ]
     },
     "execution_count": 57,
     "metadata": {},
     "output_type": "execute_result"
    }
   ],
   "source": [
    "# Our new xbow, calculated using multiplication instead:\n",
    "xbow2 = weights @ x   # (T, T) x (B, T, C) ==> (B, T, T) x (B, T, C) ==> (B, T, C)\n",
    "\n",
    "xbow2[0]"
   ]
  },
  {
   "cell_type": "code",
   "execution_count": 58,
   "id": "f87d0f80",
   "metadata": {},
   "outputs": [
    {
     "data": {
      "text/plain": [
       "tensor([[ 0.1808, -0.0700],\n",
       "        [-0.0894, -0.4926],\n",
       "        [ 0.1490, -0.3199],\n",
       "        [ 0.3504, -0.2238],\n",
       "        [ 0.3525,  0.0545],\n",
       "        [ 0.0688, -0.0396],\n",
       "        [ 0.0927, -0.0682],\n",
       "        [-0.0341,  0.1332]])"
      ]
     },
     "execution_count": 58,
     "metadata": {},
     "output_type": "execute_result"
    }
   ],
   "source": [
    "xbow[0]"
   ]
  },
  {
   "cell_type": "code",
   "execution_count": 60,
   "id": "93e8f778",
   "metadata": {},
   "outputs": [
    {
     "name": "stdout",
     "output_type": "stream",
     "text": [
      "tensor([[0., -inf, -inf, -inf, -inf, -inf, -inf, -inf],\n",
      "        [0., 0., -inf, -inf, -inf, -inf, -inf, -inf],\n",
      "        [0., 0., 0., -inf, -inf, -inf, -inf, -inf],\n",
      "        [0., 0., 0., 0., -inf, -inf, -inf, -inf],\n",
      "        [0., 0., 0., 0., 0., -inf, -inf, -inf],\n",
      "        [0., 0., 0., 0., 0., 0., -inf, -inf],\n",
      "        [0., 0., 0., 0., 0., 0., 0., -inf],\n",
      "        [0., 0., 0., 0., 0., 0., 0., 0.]])\n",
      "\n",
      "tensor([[1.0000, 0.0000, 0.0000, 0.0000, 0.0000, 0.0000, 0.0000, 0.0000],\n",
      "        [0.5000, 0.5000, 0.0000, 0.0000, 0.0000, 0.0000, 0.0000, 0.0000],\n",
      "        [0.3333, 0.3333, 0.3333, 0.0000, 0.0000, 0.0000, 0.0000, 0.0000],\n",
      "        [0.2500, 0.2500, 0.2500, 0.2500, 0.0000, 0.0000, 0.0000, 0.0000],\n",
      "        [0.2000, 0.2000, 0.2000, 0.2000, 0.2000, 0.0000, 0.0000, 0.0000],\n",
      "        [0.1667, 0.1667, 0.1667, 0.1667, 0.1667, 0.1667, 0.0000, 0.0000],\n",
      "        [0.1429, 0.1429, 0.1429, 0.1429, 0.1429, 0.1429, 0.1429, 0.0000],\n",
      "        [0.1250, 0.1250, 0.1250, 0.1250, 0.1250, 0.1250, 0.1250, 0.1250]])\n",
      "\n"
     ]
    },
    {
     "data": {
      "text/plain": [
       "tensor([[ 0.1808, -0.0700],\n",
       "        [-0.0894, -0.4926],\n",
       "        [ 0.1490, -0.3199],\n",
       "        [ 0.3504, -0.2238],\n",
       "        [ 0.3525,  0.0545],\n",
       "        [ 0.0688, -0.0396],\n",
       "        [ 0.0927, -0.0682],\n",
       "        [-0.0341,  0.1332]])"
      ]
     },
     "execution_count": 60,
     "metadata": {},
     "output_type": "execute_result"
    }
   ],
   "source": [
    "# We can use Softmax instead, giving an identical result:\n",
    "tril = torch.tril(torch.ones(T, T))\n",
    "weights = torch.zeros((T, T))\n",
    "\n",
    "# masked_fill:  for all the elements where tril==0 (masked element-wise), make them -inf. \n",
    "weights = weights.masked_fill(tril==0, float(\"-inf\"))\n",
    "print(weights, end=\"\\n\\n\")\n",
    "\n",
    "# softmax:      exponentiates entries and divides by the sum.\n",
    "weights = F.softmax(weights, dim=-1)\n",
    "print(weights, end=\"\\n\\n\")\n",
    "\n",
    "xbow3 = weights @ x\n",
    "\n",
    "xbow3[0]\n",
    "\n",
    "# We prefer this because the initial  weights=torch.zeros((T, T))  begins with zeros, and can be thought of as\n",
    "#   an \"interaction strength\" between past and previous tokens.\n",
    "# The -inf says we will not aggregate anything from the future tokens. \n",
    "\n",
    "# These affinities (\"interaction strength\") will change over time, which is the crux of self-attention. \n",
    "# Hence we prefer this method. "
   ]
  },
  {
   "cell_type": "markdown",
   "id": "c944fa0c",
   "metadata": {},
   "source": [
    "## Implementing Self-Attention"
   ]
  },
  {
   "cell_type": "code",
   "execution_count": 61,
   "id": "a7c209f8",
   "metadata": {},
   "outputs": [
    {
     "name": "stdout",
     "output_type": "stream",
     "text": [
      "tensor([[1.0000, 0.0000, 0.0000, 0.0000, 0.0000, 0.0000, 0.0000, 0.0000],\n",
      "        [0.5000, 0.5000, 0.0000, 0.0000, 0.0000, 0.0000, 0.0000, 0.0000],\n",
      "        [0.3333, 0.3333, 0.3333, 0.0000, 0.0000, 0.0000, 0.0000, 0.0000],\n",
      "        [0.2500, 0.2500, 0.2500, 0.2500, 0.0000, 0.0000, 0.0000, 0.0000],\n",
      "        [0.2000, 0.2000, 0.2000, 0.2000, 0.2000, 0.0000, 0.0000, 0.0000],\n",
      "        [0.1667, 0.1667, 0.1667, 0.1667, 0.1667, 0.1667, 0.0000, 0.0000],\n",
      "        [0.1429, 0.1429, 0.1429, 0.1429, 0.1429, 0.1429, 0.1429, 0.0000],\n",
      "        [0.1250, 0.1250, 0.1250, 0.1250, 0.1250, 0.1250, 0.1250, 0.1250]])\n",
      "\n"
     ]
    },
    {
     "data": {
      "text/plain": [
       "torch.Size([4, 8, 32])"
      ]
     },
     "execution_count": 61,
     "metadata": {},
     "output_type": "execute_result"
    }
   ],
   "source": [
    "torch.manual_seed(1337)\n",
    "\n",
    "B, T, C = 4, 8, 32   # batch, time, channels\n",
    "x = torch.randn(B, T, C)   # our random \"input\"\n",
    "\n",
    "# Implementation from above (method 3):\n",
    "tril = torch.tril(torch.ones(T, T))\n",
    "weights = torch.zeros((T, T))\n",
    "weights = weights.masked_fill(tril==0, float(\"-inf\"))\n",
    "weights = F.softmax(weights, dim=-1)\n",
    "print(weights, end=\"\\n\\n\")\n",
    "\n",
    "out = weights @ x\n",
    "out.shape\n",
    "\n",
    "# Problem:\n",
    "#   We want to somehow encode how position matters. If the current timestep is a vowel, we might be more interested\n",
    "#   in previous consonants than vowels, for example, in certain positions. \n",
    "# We gather information in the past in a data-dependent way."
   ]
  },
  {
   "cell_type": "markdown",
   "id": "ca3c1713",
   "metadata": {},
   "source": [
    "### Key and Query Vectors"
   ]
  },
  {
   "cell_type": "code",
   "execution_count": 66,
   "id": "1038eedb",
   "metadata": {},
   "outputs": [
    {
     "name": "stdout",
     "output_type": "stream",
     "text": [
      "tensor([[1.0000, 0.0000, 0.0000, 0.0000, 0.0000, 0.0000, 0.0000, 0.0000],\n",
      "        [0.1574, 0.8426, 0.0000, 0.0000, 0.0000, 0.0000, 0.0000, 0.0000],\n",
      "        [0.2088, 0.1646, 0.6266, 0.0000, 0.0000, 0.0000, 0.0000, 0.0000],\n",
      "        [0.5792, 0.1187, 0.1889, 0.1131, 0.0000, 0.0000, 0.0000, 0.0000],\n",
      "        [0.0294, 0.1052, 0.0469, 0.0276, 0.7909, 0.0000, 0.0000, 0.0000],\n",
      "        [0.0176, 0.2689, 0.0215, 0.0089, 0.6812, 0.0019, 0.0000, 0.0000],\n",
      "        [0.1691, 0.4066, 0.0438, 0.0416, 0.1048, 0.2012, 0.0329, 0.0000],\n",
      "        [0.0210, 0.0843, 0.0555, 0.2297, 0.0573, 0.0709, 0.2423, 0.2391]],\n",
      "       grad_fn=<SelectBackward0>)\n",
      "\n",
      "torch.Size([4, 8, 32])\n"
     ]
    }
   ],
   "source": [
    "torch.manual_seed(1337)\n",
    "\n",
    "B, T, C = 4, 8, 32   # batch, time, channels\n",
    "x = torch.randn(B, T, C)   # our random \"input\"\n",
    "\n",
    "# Let's introduce a single attention head:\n",
    "head_size = 16\n",
    "# Creating a Key vector:\n",
    "key = nn.Linear(C, head_size, bias=False)\n",
    "# Creating a Query vector:\n",
    "query = nn.Linear(C, head_size, bias=False)\n",
    "\n",
    "# Producing \"k\" and \"q\" by forwarding on \"x\":\n",
    "#   (B, T, head_size)\n",
    "k = key(x)\n",
    "q = query(x)\n",
    "# All the tokens in all the positions in the (B, T) arrangement, in parallel independently produce k and q.\n",
    "\n",
    "weights = q @ k.transpose(-2, -1)   # transposing the last 2 dimensions then multiplying\n",
    "#   (B, T, 16) x (B, 16, T) ==> (B, T, T)\n",
    "\n",
    "# Lower triangular \"1\"s:\n",
    "tril = torch.tril(torch.ones(T, T))\n",
    "\n",
    "weights = weights.masked_fill(tril==0, float(\"-inf\"))\n",
    "weights = F.softmax(weights, dim=-1)\n",
    "# Our new weights, which is batch-element dependent:\n",
    "print(weights[0], end=\"\\n\\n\")\n",
    "\n",
    "out = weights @ x\n",
    "print(out.shape)"
   ]
  },
  {
   "cell_type": "code",
   "execution_count": 67,
   "id": "38c47223",
   "metadata": {},
   "outputs": [
    {
     "name": "stdout",
     "output_type": "stream",
     "text": [
      "tensor([[1.0000, 0.0000, 0.0000, 0.0000, 0.0000, 0.0000, 0.0000, 0.0000],\n",
      "        [0.1574, 0.8426, 0.0000, 0.0000, 0.0000, 0.0000, 0.0000, 0.0000],\n",
      "        [0.2088, 0.1646, 0.6266, 0.0000, 0.0000, 0.0000, 0.0000, 0.0000],\n",
      "        [0.5792, 0.1187, 0.1889, 0.1131, 0.0000, 0.0000, 0.0000, 0.0000],\n",
      "        [0.0294, 0.1052, 0.0469, 0.0276, 0.7909, 0.0000, 0.0000, 0.0000],\n",
      "        [0.0176, 0.2689, 0.0215, 0.0089, 0.6812, 0.0019, 0.0000, 0.0000],\n",
      "        [0.1691, 0.4066, 0.0438, 0.0416, 0.1048, 0.2012, 0.0329, 0.0000],\n",
      "        [0.0210, 0.0843, 0.0555, 0.2297, 0.0573, 0.0709, 0.2423, 0.2391]],\n",
      "       grad_fn=<SelectBackward0>)\n",
      "\n",
      "torch.Size([4, 8, 16])\n"
     ]
    }
   ],
   "source": [
    "# But we don't want to aggregate the tokens exactly. We will introduce another parameter \"value\".\n",
    "torch.manual_seed(1337)\n",
    "\n",
    "B, T, C = 4, 8, 32   # batch, time, channels\n",
    "x = torch.randn(B, T, C)   # our random \"input\"\n",
    "\n",
    "# Let's introduce a single attention head:\n",
    "head_size = 16\n",
    "# Creating a Key vector:\n",
    "key = nn.Linear(C, head_size, bias=False)\n",
    "# Creating a Query vector:\n",
    "query = nn.Linear(C, head_size, bias=False)\n",
    "# Creating a Value vector:\n",
    "value = nn.Linear(C, head_size, bias=False)\n",
    "\n",
    "# Producing \"k\" and \"q\" by forwarding on \"x\":\n",
    "#   (B, T, head_size)\n",
    "k = key(x)\n",
    "q = query(x)\n",
    "# All the tokens in all the positions in the (B, T) arrangement, in parallel independently produce k and q.\n",
    "\n",
    "weights = q @ k.transpose(-2, -1)   # transposing the last 2 dimensions then multiplying\n",
    "#   (B, T, 16) x (B, 16, T) ==> (B, T, T)\n",
    "\n",
    "# Lower triangular \"1\"s:\n",
    "tril = torch.tril(torch.ones(T, T))\n",
    "\n",
    "weights = weights.masked_fill(tril==0, float(\"-inf\"))\n",
    "weights = F.softmax(weights, dim=-1)\n",
    "\n",
    "# Propagating the linear layer onto \"x\":\n",
    "v = value(x)\n",
    "\n",
    "# Our new weights, which is batch-element dependent:\n",
    "print(weights[0], end=\"\\n\\n\")\n",
    "\n",
    "# Using our VALUE instead of the raw \"x\":\n",
    "out = weights @ v\n",
    "print(out.shape)"
   ]
  },
  {
   "cell_type": "code",
   "execution_count": 80,
   "id": "1d5b4f31",
   "metadata": {},
   "outputs": [],
   "source": [
    "# We are missing one element from the paper: scaling by 1/sqrt(head_size).\n",
    "# This is for numerical (variance) stability:\n",
    "\n",
    "k = torch.randn(B, T, head_size)\n",
    "q = torch.randn(B, T, head_size)\n",
    "\n",
    "# Multiplication scales variance to ~1. \n",
    "weights = q @ k.transpose(-2, -1) * head_size ** -0.5\n",
    "\n",
    "# This is important because weights feeds into Softmax, so it's important that weights is fairly diffuse.\n",
    "# If weights has very negative and very positive numbers, Softmax(weights) will converge to one-hot vectors."
   ]
  },
  {
   "cell_type": "code",
   "execution_count": 81,
   "id": "7d4fb3d0",
   "metadata": {},
   "outputs": [
    {
     "data": {
      "text/plain": [
       "tensor(1.0966)"
      ]
     },
     "execution_count": 81,
     "metadata": {},
     "output_type": "execute_result"
    }
   ],
   "source": [
    "k.var()"
   ]
  },
  {
   "cell_type": "code",
   "execution_count": 82,
   "id": "ddec47af",
   "metadata": {},
   "outputs": [
    {
     "data": {
      "text/plain": [
       "tensor(0.9416)"
      ]
     },
     "execution_count": 82,
     "metadata": {},
     "output_type": "execute_result"
    }
   ],
   "source": [
    "q.var()"
   ]
  },
  {
   "cell_type": "code",
   "execution_count": 83,
   "id": "d4ab8747",
   "metadata": {},
   "outputs": [
    {
     "data": {
      "text/plain": [
       "tensor(1.0065)"
      ]
     },
     "execution_count": 83,
     "metadata": {},
     "output_type": "execute_result"
    }
   ],
   "source": [
    "weights.var()"
   ]
  },
  {
   "cell_type": "code",
   "execution_count": 84,
   "id": "eb30a8b7",
   "metadata": {},
   "outputs": [
    {
     "data": {
      "text/plain": [
       "tensor([0.1925, 0.1426, 0.2351, 0.1426, 0.2872])"
      ]
     },
     "execution_count": 84,
     "metadata": {},
     "output_type": "execute_result"
    }
   ],
   "source": [
    "# Here's an example of convergence of Softmax(weights) showing why we scale:\n",
    "\n",
    "# NOT converging to one-hot vectors:\n",
    "torch.softmax(torch.tensor([0.1, -0.2, 0.3, -0.2, 0.5]), dim=-1)"
   ]
  },
  {
   "cell_type": "code",
   "execution_count": 88,
   "id": "62675074",
   "metadata": {},
   "outputs": [
    {
     "data": {
      "text/plain": [
       "tensor([0.0326, 0.0030, 0.1615, 0.0030, 0.8000])"
      ]
     },
     "execution_count": 88,
     "metadata": {},
     "output_type": "execute_result"
    }
   ],
   "source": [
    "# CONVERGING to one-hot vectors:\n",
    "torch.softmax(torch.tensor([0.1, -0.2, 0.3, -0.2, 0.5])*8, dim=-1)\n",
    "\n",
    "# (aggregrates everything to the maximum node, which we don't want)"
   ]
  },
  {
   "cell_type": "code",
   "execution_count": null,
   "id": "b6e09da5",
   "metadata": {},
   "outputs": [],
   "source": []
  }
 ],
 "metadata": {
  "kernelspec": {
   "display_name": "Python 3 (ipykernel)",
   "language": "python",
   "name": "python3"
  },
  "language_info": {
   "codemirror_mode": {
    "name": "ipython",
    "version": 3
   },
   "file_extension": ".py",
   "mimetype": "text/x-python",
   "name": "python",
   "nbconvert_exporter": "python",
   "pygments_lexer": "ipython3",
   "version": "3.11.5"
  }
 },
 "nbformat": 4,
 "nbformat_minor": 5
}
